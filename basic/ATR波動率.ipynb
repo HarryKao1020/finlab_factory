{
 "cells": [
  {
   "cell_type": "code",
   "execution_count": null,
   "metadata": {},
   "outputs": [],
   "source": [
    "# !conda install -c conda-forge python-dotenv -y\n",
    "import numpy as np\n",
    "import pandas as pd\n",
    "from deap import base, creator, tools\n",
    "from functools import reduce\n",
    "from dotenv import load_dotenv\n",
    "import finlab\n",
    "import os\n",
    "import plotly.express as px\n",
    "from finlab import data\n",
    "from finlab.backtest import sim\n",
    "from finlab.dataframe import FinlabDataFrame\n",
    "from finlab.portfolio import Portfolio\n",
    "from finlab.plot import plot_tw_stock_candles\n",
    "from finlab.data import indicator\n",
    "\n",
    "# 載入.env檔案中的環境變數\n",
    "\n",
    "load_dotenv()\n",
    "# 這裡要替換成自己的FinLab VIP token\n",
    "token = os.environ.get(\"FINLAB_TOKEN\")\n",
    "finlab.login(token)\n",
    "\n"
   ]
  }
 ],
 "metadata": {
  "language_info": {
   "name": "python"
  }
 },
 "nbformat": 4,
 "nbformat_minor": 2
}
