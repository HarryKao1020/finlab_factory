{
 "cells": [
  {
   "cell_type": "code",
   "execution_count": 8,
   "metadata": {},
   "outputs": [
    {
     "name": "stdout",
     "output_type": "stream",
     "text": [
      "輸入成功!\n"
     ]
    }
   ],
   "source": [
    "# !conda install -c conda-forge python-dotenv -y\n",
    "import numpy as np\n",
    "import pandas as pd\n",
    "from deap import base, creator, tools\n",
    "from functools import reduce\n",
    "from dotenv import load_dotenv\n",
    "import finlab\n",
    "import random\n",
    "import os\n",
    "import pickle\n",
    "from tqdm import tqdm\n",
    "from finlab import data\n",
    "from finlab.backtest import sim\n",
    "from finlab.dataframe import FinlabDataFrame\n",
    "from finlab.portfolio import Portfolio\n",
    "\n",
    "\n",
    "# 載入.env檔案中的環境變數\n",
    "\n",
    "load_dotenv()\n",
    "# 這裡要替換成自己的FinLab VIP token\n",
    "token = os.environ.get(\"FINLAB_TOKEN\")\n",
    "finlab.login(token)\n",
    "\n"
   ]
  },
  {
   "cell_type": "markdown",
   "metadata": {},
   "source": [
    "# sharp ratio 簡單講，就是「報酬 / 風險」！\n",
    "以這著比喻，可以想像，sharp ratio 越高，代表獲利大於風險，\n",
    "而sharp ratio 越低，代表風險大於獲利，那就會有點危險了！\n",
    "所以找一個sharp ratio 越高的指數，就等於找出了「獲利大且風險相對小」的指數喔！"
   ]
  },
  {
   "cell_type": "code",
   "execution_count": 9,
   "metadata": {},
   "outputs": [
    {
     "name": "stderr",
     "output_type": "stream",
     "text": [
      "Your version is 1.2.20, please install a newer version.\n",
      "Use \"pip install finlab==1.2.21\" to update the latest version.\n",
      "/var/folders/sn/m6fy_kqd47n7yv5k0jy2fmfw0000gn/T/ipykernel_4619/1890065571.py:3: FutureWarning: The default fill_method='pad' in FinlabDataFrame.pct_change is deprecated and will be removed in a future version. Either fill in any non-leading NA values prior to calling pct_change or specify 'fill_method=None' to not fill NA values.\n",
      "  pct_change = close.pct_change()\n"
     ]
    },
    {
     "data": {
      "text/plain": [
       "symbol\n",
       "7728   -0.037989\n",
       "2248   -0.033113\n",
       "6965   -0.031764\n",
       "6872   -0.019802\n",
       "7734   -0.016645\n",
       "          ...   \n",
       "5364    0.007795\n",
       "6294    0.008230\n",
       "6994    0.010703\n",
       "8045    0.013445\n",
       "7631    0.065934\n",
       "Length: 2589, dtype: float64"
      ]
     },
     "execution_count": 9,
     "metadata": {},
     "output_type": "execute_result"
    }
   ],
   "source": [
    "close = data.get('price:收盤價')\n",
    "\n",
    "pct_change = close.pct_change() # 漲跌幅\n",
    "profit = pct_change.mean() # 平均漲跌幅\n",
    "profit.sort_values() # 排名"
   ]
  },
  {
   "cell_type": "markdown",
   "metadata": {},
   "source": []
  }
 ],
 "metadata": {
  "kernelspec": {
   "display_name": "finlab",
   "language": "python",
   "name": "python3"
  },
  "language_info": {
   "codemirror_mode": {
    "name": "ipython",
    "version": 3
   },
   "file_extension": ".py",
   "mimetype": "text/x-python",
   "name": "python",
   "nbconvert_exporter": "python",
   "pygments_lexer": "ipython3",
   "version": "3.10.13"
  }
 },
 "nbformat": 4,
 "nbformat_minor": 2
}
